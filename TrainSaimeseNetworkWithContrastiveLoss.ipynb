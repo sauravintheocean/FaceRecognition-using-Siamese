{
 "cells": [
  {
   "cell_type": "code",
   "execution_count": 1,
   "id": "052df03b",
   "metadata": {
    "_cell_guid": "b1076dfc-b9ad-4769-8c92-a6c4dae69d19",
    "_uuid": "8f2839f25d086af736a60e9eeb907d3b93b6e0e5",
    "execution": {
     "iopub.execute_input": "2022-04-18T07:43:48.865290Z",
     "iopub.status.busy": "2022-04-18T07:43:48.864449Z",
     "iopub.status.idle": "2022-04-18T07:43:54.654886Z",
     "shell.execute_reply": "2022-04-18T07:43:54.655360Z",
     "shell.execute_reply.started": "2022-04-18T03:20:42.324640Z"
    },
    "papermill": {
     "duration": 5.841171,
     "end_time": "2022-04-18T07:43:54.655638",
     "exception": false,
     "start_time": "2022-04-18T07:43:48.814467",
     "status": "completed"
    },
    "tags": []
   },
   "outputs": [],
   "source": [
    "# This Python 3 environment comes with many helpful analytics libraries installed\n",
    "# It is defined by the kaggle/python Docker image: https://github.com/kaggle/docker-python\n",
    "# For example, here's several helpful packages to load\n",
    "\n",
    "import numpy as np # linear algebra\n",
    "import pandas as pd # data processing, CSV file I/O (e.g. pd.read_csv)\n",
    "\n",
    "# Input data files are available in the read-only \"../input/\" directory\n",
    "# For example, running this (by clicking run or pressing Shift+Enter) will list all files under the input directory\n",
    "\n",
    "import os\n",
    "\n",
    "\"\"\"\n",
    "for dirname, _, filenames in os.walk('/kaggle/input'):\n",
    "    for filename in filenames:\n",
    "        print(os.path.join(dirname, filename))\n",
    "\"\"\"\n",
    "# You can write up to 20GB to the current directory (/kaggle/working/) that gets preserved as output when you create a version using \"Save & Run All\" \n",
    "# You can also write temporary files to /kaggle/temp/, but they won't be saved outside of the current session\n",
    "\n",
    "import sys\n",
    "import numpy as np\n",
    "import pickle\n",
    "import os\n",
    "import matplotlib.pyplot as plt\n",
    "%matplotlib inline\n",
    "\n",
    "import cv2\n",
    "import time\n",
    "import itertools\n",
    "import random\n",
    "\n",
    "from sklearn.utils import shuffle\n",
    "\n",
    "import tensorflow as tf\n",
    "from tensorflow.keras.models import Sequential\n",
    "from tensorflow.keras.optimizers import Adam, RMSprop\n",
    "from tensorflow.keras.layers import Conv2D, ZeroPadding2D, Activation, Input, concatenate, Dropout\n",
    "from tensorflow.keras.models import Model\n",
    "\n",
    "from tensorflow.keras.layers import BatchNormalization\n",
    "from tensorflow.keras.layers import MaxPooling2D\n",
    "from tensorflow.keras.layers import Concatenate\n",
    "from tensorflow.keras.layers import Lambda, Flatten, Dense\n",
    "from tensorflow.keras.initializers import glorot_uniform\n",
    "\n",
    "from tensorflow.keras.layers import Layer\n",
    "from tensorflow.keras.regularizers import l2\n",
    "from tensorflow.keras import backend as K\n",
    "from tensorflow.keras.callbacks import EarlyStopping, ModelCheckpoint, ReduceLROnPlateau"
   ]
  },
  {
   "cell_type": "code",
   "execution_count": 2,
   "id": "239ea42b",
   "metadata": {
    "execution": {
     "iopub.execute_input": "2022-04-18T07:43:54.713425Z",
     "iopub.status.busy": "2022-04-18T07:43:54.712684Z",
     "iopub.status.idle": "2022-04-18T07:43:54.714728Z",
     "shell.execute_reply": "2022-04-18T07:43:54.715176Z",
     "shell.execute_reply.started": "2022-04-18T03:21:01.467494Z"
    },
    "papermill": {
     "duration": 0.031656,
     "end_time": "2022-04-18T07:43:54.715321",
     "exception": false,
     "start_time": "2022-04-18T07:43:54.683665",
     "status": "completed"
    },
    "tags": []
   },
   "outputs": [],
   "source": [
    "# Path to the Dataset\n",
    "path = \"/kaggle/input/facerecogprocesses/Gray_Faces/\""
   ]
  },
  {
   "cell_type": "code",
   "execution_count": 3,
   "id": "41913efe",
   "metadata": {
    "execution": {
     "iopub.execute_input": "2022-04-18T07:43:54.771750Z",
     "iopub.status.busy": "2022-04-18T07:43:54.771176Z",
     "iopub.status.idle": "2022-04-18T07:43:55.653752Z",
     "shell.execute_reply": "2022-04-18T07:43:55.653175Z",
     "shell.execute_reply.started": "2022-04-18T03:21:01.682729Z"
    },
    "papermill": {
     "duration": 0.911795,
     "end_time": "2022-04-18T07:43:55.653882",
     "exception": false,
     "start_time": "2022-04-18T07:43:54.742087",
     "status": "completed"
    },
    "tags": []
   },
   "outputs": [],
   "source": [
    "# Get the list of all directories and sort them\n",
    "dir_list = next(os.walk(path))[1]\n",
    "random.shuffle(dir_list)"
   ]
  },
  {
   "cell_type": "code",
   "execution_count": 4,
   "id": "33f7dcb4",
   "metadata": {
    "execution": {
     "iopub.execute_input": "2022-04-18T07:43:55.712306Z",
     "iopub.status.busy": "2022-04-18T07:43:55.711736Z",
     "iopub.status.idle": "2022-04-18T07:44:06.923471Z",
     "shell.execute_reply": "2022-04-18T07:44:06.922564Z",
     "shell.execute_reply.started": "2022-04-18T03:21:03.091516Z"
    },
    "papermill": {
     "duration": 11.242654,
     "end_time": "2022-04-18T07:44:06.923628",
     "exception": false,
     "start_time": "2022-04-18T07:43:55.680974",
     "status": "completed"
    },
    "tags": []
   },
   "outputs": [],
   "source": [
    "all_faces_paths = []\n",
    "for directory in dir_list:\n",
    "    images = os.listdir(path+directory)\n",
    "    images.sort()\n",
    "    images = [path+directory+'/'+x for x in images]\n",
    "    all_faces_paths.append(images) "
   ]
  },
  {
   "cell_type": "markdown",
   "id": "0886d5f1",
   "metadata": {
    "papermill": {
     "duration": 0.025628,
     "end_time": "2022-04-18T07:44:06.978725",
     "exception": false,
     "start_time": "2022-04-18T07:44:06.953097",
     "status": "completed"
    },
    "tags": []
   },
   "source": [
    "**Train, Validation, and Test Split**\n",
    "\n",
    "We use faces of 1430 people for training, 200 faces for validation, and 50 faces for test"
   ]
  },
  {
   "cell_type": "code",
   "execution_count": 5,
   "id": "b68ea085",
   "metadata": {
    "execution": {
     "iopub.execute_input": "2022-04-18T07:44:07.035790Z",
     "iopub.status.busy": "2022-04-18T07:44:07.034960Z",
     "iopub.status.idle": "2022-04-18T07:44:07.036894Z",
     "shell.execute_reply": "2022-04-18T07:44:07.037360Z",
     "shell.execute_reply.started": "2022-04-18T03:21:10.325937Z"
    },
    "papermill": {
     "duration": 0.032152,
     "end_time": "2022-04-18T07:44:07.037499",
     "exception": false,
     "start_time": "2022-04-18T07:44:07.005347",
     "status": "completed"
    },
    "tags": []
   },
   "outputs": [],
   "source": [
    "train_set, val_set, test_set = all_faces_paths[:1430], all_faces_paths[1430:1630], all_faces_paths[1630:1680]"
   ]
  },
  {
   "cell_type": "code",
   "execution_count": 6,
   "id": "5e3af85a",
   "metadata": {
    "execution": {
     "iopub.execute_input": "2022-04-18T07:44:07.113987Z",
     "iopub.status.busy": "2022-04-18T07:44:07.113146Z",
     "iopub.status.idle": "2022-04-18T07:44:07.119047Z",
     "shell.execute_reply": "2022-04-18T07:44:07.118407Z",
     "shell.execute_reply.started": "2022-04-18T03:21:10.334452Z"
    },
    "papermill": {
     "duration": 0.053946,
     "end_time": "2022-04-18T07:44:07.119232",
     "exception": false,
     "start_time": "2022-04-18T07:44:07.065286",
     "status": "completed"
    },
    "tags": []
   },
   "outputs": [
    {
     "name": "stdout",
     "output_type": "stream",
     "text": [
      "1430\n",
      "200\n",
      "50\n"
     ]
    }
   ],
   "source": [
    "print(len(train_set))\n",
    "print(len(val_set))\n",
    "print(len(test_set))"
   ]
  },
  {
   "cell_type": "code",
   "execution_count": 7,
   "id": "0b563373",
   "metadata": {
    "execution": {
     "iopub.execute_input": "2022-04-18T07:44:07.213340Z",
     "iopub.status.busy": "2022-04-18T07:44:07.212492Z",
     "iopub.status.idle": "2022-04-18T07:44:07.214578Z",
     "shell.execute_reply": "2022-04-18T07:44:07.213976Z",
     "shell.execute_reply.started": "2022-04-18T03:21:10.353356Z"
    },
    "papermill": {
     "duration": 0.050755,
     "end_time": "2022-04-18T07:44:07.214714",
     "exception": false,
     "start_time": "2022-04-18T07:44:07.163959",
     "status": "completed"
    },
    "tags": []
   },
   "outputs": [],
   "source": [
    "# All the images will be converted to the same size before processing\n",
    "img_h, img_w = 160, 160"
   ]
  },
  {
   "cell_type": "code",
   "execution_count": 8,
   "id": "b7aa97ae",
   "metadata": {
    "execution": {
     "iopub.execute_input": "2022-04-18T07:44:07.306643Z",
     "iopub.status.busy": "2022-04-18T07:44:07.305884Z",
     "iopub.status.idle": "2022-04-18T07:44:07.311493Z",
     "shell.execute_reply": "2022-04-18T07:44:07.312435Z",
     "shell.execute_reply.started": "2022-04-18T03:21:10.428522Z"
    },
    "papermill": {
     "duration": 0.057894,
     "end_time": "2022-04-18T07:44:07.312608",
     "exception": false,
     "start_time": "2022-04-18T07:44:07.254714",
     "status": "completed"
    },
    "tags": []
   },
   "outputs": [],
   "source": [
    "def visualize_sample_face():\n",
    "    '''Function to randomly select a signature from train set and\n",
    "    print two genuine copies and one forged copy'''\n",
    "    fig, (ax1, ax2, ax3) = plt.subplots(1, 3, figsize = (10, 10))\n",
    "    k1 = np.random.randint(len(train_set))\n",
    "    k2 = np.random.randint(len(train_set))\n",
    "    same_img_names = random.sample(train_set[k1], 2)\n",
    "    diff_img_name = random.sample(train_set[k2], 1)\n",
    "    same_img1 = cv2.imread(same_img_names[0], 0)\n",
    "    same_img2 = cv2.imread(same_img_names[1], 0)\n",
    "    diff_img = plt.imread(diff_img_name[0], 0)\n",
    "\n",
    "    ax1.imshow(same_img1, cmap = 'gray')\n",
    "    ax2.imshow(same_img2, cmap = 'gray')\n",
    "    ax3.imshow(diff_img, cmap = 'gray')\n",
    "\n",
    "    ax1.set_title('Anchor')\n",
    "    ax1.axis('off')\n",
    "    ax2.set_title('Positive')\n",
    "    ax2.axis('off')\n",
    "    ax3.set_title('Negative')\n",
    "    ax3.axis('off')"
   ]
  },
  {
   "cell_type": "code",
   "execution_count": 9,
   "id": "ff783ab4",
   "metadata": {
    "execution": {
     "iopub.execute_input": "2022-04-18T07:44:07.406717Z",
     "iopub.status.busy": "2022-04-18T07:44:07.405955Z",
     "iopub.status.idle": "2022-04-18T07:44:07.783219Z",
     "shell.execute_reply": "2022-04-18T07:44:07.784484Z",
     "shell.execute_reply.started": "2022-04-18T03:21:11.648555Z"
    },
    "papermill": {
     "duration": 0.429175,
     "end_time": "2022-04-18T07:44:07.784695",
     "exception": false,
     "start_time": "2022-04-18T07:44:07.355520",
     "status": "completed"
    },
    "tags": []
   },
   "outputs": [
    {
     "data": {
      "image/png": "[encoded data removed]",
      "text/plain": [
       "<Figure size 720x720 with 3 Axes>"
      ]
     },
     "metadata": {
      "needs_background": "light"
     },
     "output_type": "display_data"
    }
   ],
   "source": [
    "visualize_sample_face()"
   ]
  },
  {
   "cell_type": "code",
   "execution_count": 10,
   "id": "d3e906a3",
   "metadata": {
    "execution": {
     "iopub.execute_input": "2022-04-18T07:44:07.913212Z",
     "iopub.status.busy": "2022-04-18T07:44:07.912268Z",
     "iopub.status.idle": "2022-04-18T07:44:08.670792Z",
     "shell.execute_reply": "2022-04-18T07:44:08.671252Z",
     "shell.execute_reply.started": "2022-04-18T03:21:15.580518Z"
    },
    "papermill": {
     "duration": 0.825576,
     "end_time": "2022-04-18T07:44:08.671427",
     "exception": false,
     "start_time": "2022-04-18T07:44:07.845851",
     "status": "completed"
    },
    "tags": []
   },
   "outputs": [],
   "source": [
    "same_pairs = []\n",
    "diff_pairs = []\n",
    "for person in train_set:\n",
    "    same_comb = list(itertools.combinations(person, 2))\n",
    "    same_pairs.extend(same_comb)\n",
    "    faces_minus_current = [j for j in train_set if j != person]\n",
    "    for i in range(len(person)):\n",
    "        if len(same_comb) == 1:\n",
    "            diff_pairs.extend(itertools.product(person[i:i+1], random.sample(random.sample(faces_minus_current,1)[0], 1)))\n",
    "        else:  \n",
    "            for j in range(len(same_comb)//len(person)):\n",
    "                diff_pairs.extend(itertools.product(person[i:i+1], random.sample(random.sample(faces_minus_current,1)[0], 1)))            "
   ]
  },
  {
   "cell_type": "code",
   "execution_count": 11,
   "id": "f1da16cd",
   "metadata": {
    "execution": {
     "iopub.execute_input": "2022-04-18T07:44:08.743256Z",
     "iopub.status.busy": "2022-04-18T07:44:08.741606Z",
     "iopub.status.idle": "2022-04-18T07:44:08.745670Z",
     "shell.execute_reply": "2022-04-18T07:44:08.745033Z",
     "shell.execute_reply.started": "2022-04-18T03:21:16.688738Z"
    },
    "papermill": {
     "duration": 0.041288,
     "end_time": "2022-04-18T07:44:08.745820",
     "exception": false,
     "start_time": "2022-04-18T07:44:08.704532",
     "status": "completed"
    },
    "tags": []
   },
   "outputs": [
    {
     "name": "stdout",
     "output_type": "stream",
     "text": [
      "Number of similar pairs for train 44362\n",
      "Number of different pairs train 43622\n"
     ]
    }
   ],
   "source": [
    "print(\"Number of similar pairs for train\", len(same_pairs))\n",
    "print(\"Number of different pairs train\", len(diff_pairs))"
   ]
  },
  {
   "cell_type": "code",
   "execution_count": 12,
   "id": "ba745e46",
   "metadata": {
    "execution": {
     "iopub.execute_input": "2022-04-18T07:44:08.859208Z",
     "iopub.status.busy": "2022-04-18T07:44:08.838640Z",
     "iopub.status.idle": "2022-04-18T07:44:08.909899Z",
     "shell.execute_reply": "2022-04-18T07:44:08.909404Z",
     "shell.execute_reply.started": "2022-04-18T03:21:25.651470Z"
    },
    "papermill": {
     "duration": 0.131372,
     "end_time": "2022-04-18T07:44:08.910115",
     "exception": false,
     "start_time": "2022-04-18T07:44:08.778743",
     "status": "completed"
    },
    "tags": []
   },
   "outputs": [],
   "source": [
    "same_pairs = []\n",
    "diff_pairs = []\n",
    "for person in val_set:\n",
    "    same_comb = list(itertools.combinations(person, 2))\n",
    "    same_pairs.extend(same_comb)\n",
    "    faces_minus_current = [j for j in train_set if j != person]\n",
    "    for i in range(len(person)):\n",
    "        if len(same_comb) == 1:\n",
    "            diff_pairs.extend(itertools.product(person[i:i+1], random.sample(random.sample(faces_minus_current,1)[0], 1)))\n",
    "        else:  \n",
    "            for j in range(len(same_comb)//len(person)):\n",
    "                diff_pairs.extend(itertools.product(person[i:i+1], random.sample(random.sample(faces_minus_current,1)[0], 1)))            "
   ]
  },
  {
   "cell_type": "code",
   "execution_count": 13,
   "id": "29033d1c",
   "metadata": {
    "execution": {
     "iopub.execute_input": "2022-04-18T07:44:08.981481Z",
     "iopub.status.busy": "2022-04-18T07:44:08.980474Z",
     "iopub.status.idle": "2022-04-18T07:44:08.984448Z",
     "shell.execute_reply": "2022-04-18T07:44:08.984894Z",
     "shell.execute_reply.started": "2022-04-18T03:21:26.954677Z"
    },
    "papermill": {
     "duration": 0.041597,
     "end_time": "2022-04-18T07:44:08.985041",
     "exception": false,
     "start_time": "2022-04-18T07:44:08.943444",
     "status": "completed"
    },
    "tags": []
   },
   "outputs": [
    {
     "name": "stdout",
     "output_type": "stream",
     "text": [
      "Number of similar pairs for val 6760\n",
      "Number of different pairs val 6687\n"
     ]
    }
   ],
   "source": [
    "print(\"Number of similar pairs for val\", len(same_pairs))\n",
    "print(\"Number of different pairs val\", len(diff_pairs))"
   ]
  },
  {
   "cell_type": "code",
   "execution_count": 14,
   "id": "010fd59d",
   "metadata": {
    "execution": {
     "iopub.execute_input": "2022-04-18T07:44:09.067435Z",
     "iopub.status.busy": "2022-04-18T07:44:09.065730Z",
     "iopub.status.idle": "2022-04-18T07:44:09.068089Z",
     "shell.execute_reply": "2022-04-18T07:44:09.068550Z",
     "shell.execute_reply.started": "2022-04-18T03:22:30.570663Z"
    },
    "papermill": {
     "duration": 0.051777,
     "end_time": "2022-04-18T07:44:09.068701",
     "exception": false,
     "start_time": "2022-04-18T07:44:09.016924",
     "status": "completed"
    },
    "tags": []
   },
   "outputs": [],
   "source": [
    "def generate_batch(persons, batch_size = 32):\n",
    "    '''Function to generate a batch of data with batch_size number of data points\n",
    "    Half of the data points will be Genuine-Genuine pairs and half will be Genuine-Forged pairs'''\n",
    "    while True:\n",
    "        same_pairs = []\n",
    "        diff_pairs = []\n",
    "        same_same_labels = []\n",
    "        same_diff_labels = []\n",
    "        all_pairs = []\n",
    "        all_labels = []\n",
    "        \n",
    "        # Here we create pairs of Genuine-Genuine image names and Genuine-Forged image names\n",
    "        # For every person we have 2 to 50 faces. For each person we create equal number of Same-Same and Same-Diff face pairs.\n",
    "        # Where same-same means both images belong to the same person and same-diff means both images belong to different person. \n",
    "        # Minimum number of Same-Same pairs is 2 choose 2 = 1 and maximum number of Same-Same pair is 50 choose 2 = 1225\n",
    "        # To make Same-Diff pairs, we pair every face image of a person with (Number of same-same pair / Number of images for the person)  \n",
    "        # But when we have just one instance of Same-Same pair we create two instances of Same-Diff pair\n",
    "        # In all we have 1400 person's data in the training data.\n",
    "        # Total no. of Genuine-Genuine pairs = 46650\n",
    "        # Total number of Genuine-Forged pairs = 45917\n",
    "        # Total no. of data points = 46650 + 46650 = 92567\n",
    "        \n",
    "\n",
    "        for person in persons:\n",
    "            same_comb = list(itertools.combinations(person, 2))\n",
    "            same_pairs.extend(same_comb)\n",
    "            faces_minus_current = [j for j in persons if j != person]\n",
    "            for i in range(len(person)):\n",
    "                if len(same_comb) == 1:\n",
    "                    diff_pairs.extend(itertools.product(person[i:i+1], random.sample(random.sample(faces_minus_current,1)[0], 1)))\n",
    "                else:  \n",
    "                    for j in range(len(same_comb)//len(person)):\n",
    "                        diff_pairs.extend(itertools.product(person[i:i+1], random.sample(random.sample(faces_minus_current,1)[0], 1))) \n",
    "        \n",
    "        \n",
    "        # Label for Genuine-Genuine pairs is 1\n",
    "        # Label for Genuine-Forged pairs is 0\n",
    "        same_same_labels = [1]*len(same_pairs)\n",
    "        same_diff_labels = [0]*len(diff_pairs)\n",
    "        \n",
    "        # Concatenate all the pairs together along with their labels and shuffle them\n",
    "        all_pairs = same_pairs + diff_pairs\n",
    "        all_labels = same_same_labels + same_diff_labels\n",
    "        del same_pairs, diff_pairs, same_same_labels, same_diff_labels\n",
    "        all_pairs, all_labels = shuffle(all_pairs, all_labels)\n",
    "        \n",
    "        # Note the lists above contain only the image names and\n",
    "        # actual images are loaded and yielded below in batches\n",
    "        # Below we prepare a batch of data points and yield the batch\n",
    "        # In each batch we load \"batch_size\" number of image pairs\n",
    "        # These images are then removed from the original set so that\n",
    "        # they are not added again in the next batch.\n",
    "            \n",
    "        k = 0\n",
    "        pairs=[np.zeros((batch_size, img_h, img_w, 1)) for i in range(2)]\n",
    "        targets=np.zeros((batch_size,))\n",
    "        for ix, pair in enumerate(all_pairs):\n",
    "            img1 = cv2.imread(pair[0], 0)\n",
    "            img2 = cv2.imread(pair[1], 0)\n",
    "            img1 = cv2.resize(img1, (img_w, img_h))\n",
    "            img2 = cv2.resize(img2, (img_w, img_h))\n",
    "            img1 = np.array(img1, dtype = np.float64)\n",
    "            img2 = np.array(img2, dtype = np.float64)\n",
    "            img1 /= 255\n",
    "            img2 /= 255\n",
    "            img1 = img1[..., np.newaxis]\n",
    "            img2 = img2[..., np.newaxis]\n",
    "            pairs[0][k, :, :, :] = img1\n",
    "            pairs[1][k, :, :, :] = img2\n",
    "            targets[k] = all_labels[ix]\n",
    "            k += 1\n",
    "            if k == batch_size:\n",
    "                yield pairs, targets\n",
    "                k = 0\n",
    "                pairs=[np.zeros((batch_size, img_h, img_w, 1)) for i in range(2)]\n",
    "                targets=np.zeros((batch_size,))\n"
   ]
  },
  {
   "cell_type": "code",
   "execution_count": 15,
   "id": "6e54fc77",
   "metadata": {
    "execution": {
     "iopub.execute_input": "2022-04-18T07:44:09.138611Z",
     "iopub.status.busy": "2022-04-18T07:44:09.137672Z",
     "iopub.status.idle": "2022-04-18T07:44:09.140398Z",
     "shell.execute_reply": "2022-04-18T07:44:09.139899Z",
     "shell.execute_reply.started": "2022-04-18T03:22:31.760886Z"
    },
    "papermill": {
     "duration": 0.039466,
     "end_time": "2022-04-18T07:44:09.140533",
     "exception": false,
     "start_time": "2022-04-18T07:44:09.101067",
     "status": "completed"
    },
    "tags": []
   },
   "outputs": [],
   "source": [
    "def euclidean_distance(vects):\n",
    "    '''Compute Euclidean Distance between two vectors'''\n",
    "    x, y = vects\n",
    "    return K.sqrt(K.sum(K.square(x - y), axis=1, keepdims=True))"
   ]
  },
  {
   "cell_type": "code",
   "execution_count": 16,
   "id": "d736b7f2",
   "metadata": {
    "execution": {
     "iopub.execute_input": "2022-04-18T07:44:09.208885Z",
     "iopub.status.busy": "2022-04-18T07:44:09.207050Z",
     "iopub.status.idle": "2022-04-18T07:44:09.211614Z",
     "shell.execute_reply": "2022-04-18T07:44:09.211075Z",
     "shell.execute_reply.started": "2022-04-18T03:22:32.825734Z"
    },
    "papermill": {
     "duration": 0.039212,
     "end_time": "2022-04-18T07:44:09.211754",
     "exception": false,
     "start_time": "2022-04-18T07:44:09.172542",
     "status": "completed"
    },
    "tags": []
   },
   "outputs": [],
   "source": [
    "def eucl_dist_output_shape(shapes):\n",
    "    shape1, shape2 = shapes\n",
    "    return (shape1[0], 1)"
   ]
  },
  {
   "cell_type": "code",
   "execution_count": 17,
   "id": "b2977aeb",
   "metadata": {
    "execution": {
     "iopub.execute_input": "2022-04-18T07:44:09.278628Z",
     "iopub.status.busy": "2022-04-18T07:44:09.277790Z",
     "iopub.status.idle": "2022-04-18T07:44:09.283572Z",
     "shell.execute_reply": "2022-04-18T07:44:09.282907Z",
     "shell.execute_reply.started": "2022-04-18T03:22:34.477718Z"
    },
    "papermill": {
     "duration": 0.04004,
     "end_time": "2022-04-18T07:44:09.283696",
     "exception": false,
     "start_time": "2022-04-18T07:44:09.243656",
     "status": "completed"
    },
    "tags": []
   },
   "outputs": [],
   "source": [
    "def contrastive_loss(y_true, y_pred):\n",
    "    '''Contrastive loss from Hadsell-et-al.'06\n",
    "    http://yann.lecun.com/exdb/publis/pdf/hadsell-chopra-lecun-06.pdf\n",
    "    '''\n",
    "    margin = 1\n",
    "    return K.mean(y_true * K.square(y_pred) + (1 - y_true) * K.square(K.maximum(margin - y_pred, 0)))"
   ]
  },
  {
   "cell_type": "code",
   "execution_count": 18,
   "id": "d1f66b8a",
   "metadata": {
    "execution": {
     "iopub.execute_input": "2022-04-18T07:44:09.356712Z",
     "iopub.status.busy": "2022-04-18T07:44:09.355424Z",
     "iopub.status.idle": "2022-04-18T07:44:09.359351Z",
     "shell.execute_reply": "2022-04-18T07:44:09.358915Z",
     "shell.execute_reply.started": "2022-04-18T03:22:35.642294Z"
    },
    "papermill": {
     "duration": 0.043479,
     "end_time": "2022-04-18T07:44:09.359465",
     "exception": false,
     "start_time": "2022-04-18T07:44:09.315986",
     "status": "completed"
    },
    "tags": []
   },
   "outputs": [],
   "source": [
    "def create_base_network(input_shape):\n",
    "    '''Base Siamese Network'''\n",
    "    \n",
    "    seq = Sequential()\n",
    "    seq.add(Conv2D(6, kernel_size=(5, 5), activation='relu', name='Conv1', strides=2, input_shape= input_shape, \n",
    "                        kernel_initializer='glorot_normal'))\n",
    "    seq.add(MaxPooling2D((3,3), strides=(2, 2))) \n",
    "    seq.add(Dropout(.25))\n",
    "    \n",
    "    seq.add(Conv2D(12, kernel_size=(5, 5), activation='relu', name='Conv2', strides=2, kernel_initializer='glorot_normal'))\n",
    "    seq.add(MaxPooling2D((3,3), strides=(2, 2)))\n",
    "    seq.add(Dropout(.25))\n",
    "\n",
    "    seq.add(Flatten(name='Flatten'))\n",
    "    seq.add(Dense(128, activation='relu', kernel_initializer='glorot_normal')) \n",
    "    seq.add(Dropout(0.1))\n",
    "    seq.add(Dense(50, activation='relu'))\n",
    "    \n",
    "    return seq"
   ]
  },
  {
   "cell_type": "code",
   "execution_count": 19,
   "id": "d73ac57d",
   "metadata": {
    "execution": {
     "iopub.execute_input": "2022-04-18T07:44:09.429430Z",
     "iopub.status.busy": "2022-04-18T07:44:09.428517Z",
     "iopub.status.idle": "2022-04-18T07:44:09.430483Z",
     "shell.execute_reply": "2022-04-18T07:44:09.430938Z",
     "shell.execute_reply.started": "2022-04-18T03:22:37.014445Z"
    },
    "papermill": {
     "duration": 0.039253,
     "end_time": "2022-04-18T07:44:09.431072",
     "exception": false,
     "start_time": "2022-04-18T07:44:09.391819",
     "status": "completed"
    },
    "tags": []
   },
   "outputs": [],
   "source": [
    "input_shape=(img_h, img_w, 1)"
   ]
  },
  {
   "cell_type": "code",
   "execution_count": 20,
   "id": "6ed7471b",
   "metadata": {
    "execution": {
     "iopub.execute_input": "2022-04-18T07:44:09.500510Z",
     "iopub.status.busy": "2022-04-18T07:44:09.499957Z",
     "iopub.status.idle": "2022-04-18T07:44:11.819803Z",
     "shell.execute_reply": "2022-04-18T07:44:11.820563Z",
     "shell.execute_reply.started": "2022-04-18T03:22:38.034353Z"
    },
    "papermill": {
     "duration": 2.357915,
     "end_time": "2022-04-18T07:44:11.820760",
     "exception": false,
     "start_time": "2022-04-18T07:44:09.462845",
     "status": "completed"
    },
    "tags": []
   },
   "outputs": [
    {
     "name": "stderr",
     "output_type": "stream",
     "text": [
      "2022-04-18 07:44:09.570080: I tensorflow/stream_executor/cuda/cuda_gpu_executor.cc:937] successful NUMA node read from SysFS had negative value (-1), but there must be at least one NUMA node, so returning NUMA node zero\n",
      "2022-04-18 07:44:09.656756: I tensorflow/stream_executor/cuda/cuda_gpu_executor.cc:937] successful NUMA node read from SysFS had negative value (-1), but there must be at least one NUMA node, so returning NUMA node zero\n",
      "2022-04-18 07:44:09.657575: I tensorflow/stream_executor/cuda/cuda_gpu_executor.cc:937] successful NUMA node read from SysFS had negative value (-1), but there must be at least one NUMA node, so returning NUMA node zero\n",
      "2022-04-18 07:44:09.658722: I tensorflow/core/platform/cpu_feature_guard.cc:142] This TensorFlow binary is optimized with oneAPI Deep Neural Network Library (oneDNN) to use the following CPU instructions in performance-critical operations:  AVX2 AVX512F FMA\n",
      "To enable them in other operations, rebuild TensorFlow with the appropriate compiler flags.\n",
      "2022-04-18 07:44:09.659660: I tensorflow/stream_executor/cuda/cuda_gpu_executor.cc:937] successful NUMA node read from SysFS had negative value (-1), but there must be at least one NUMA node, so returning NUMA node zero\n",
      "2022-04-18 07:44:09.660413: I tensorflow/stream_executor/cuda/cuda_gpu_executor.cc:937] successful NUMA node read from SysFS had negative value (-1), but there must be at least one NUMA node, so returning NUMA node zero\n",
      "2022-04-18 07:44:09.661100: I tensorflow/stream_executor/cuda/cuda_gpu_executor.cc:937] successful NUMA node read from SysFS had negative value (-1), but there must be at least one NUMA node, so returning NUMA node zero\n",
      "2022-04-18 07:44:11.394613: I tensorflow/stream_executor/cuda/cuda_gpu_executor.cc:937] successful NUMA node read from SysFS had negative value (-1), but there must be at least one NUMA node, so returning NUMA node zero\n",
      "2022-04-18 07:44:11.395536: I tensorflow/stream_executor/cuda/cuda_gpu_executor.cc:937] successful NUMA node read from SysFS had negative value (-1), but there must be at least one NUMA node, so returning NUMA node zero\n",
      "2022-04-18 07:44:11.396228: I tensorflow/stream_executor/cuda/cuda_gpu_executor.cc:937] successful NUMA node read from SysFS had negative value (-1), but there must be at least one NUMA node, so returning NUMA node zero\n",
      "2022-04-18 07:44:11.396824: I tensorflow/core/common_runtime/gpu/gpu_device.cc:1510] Created device /job:localhost/replica:0/task:0/device:GPU:0 with 15403 MB memory:  -> device: 0, name: Tesla P100-PCIE-16GB, pci bus id: 0000:00:04.0, compute capability: 6.0\n"
     ]
    }
   ],
   "source": [
    "# network definition\n",
    "base_network = create_base_network(input_shape)\n",
    "\n",
    "input_a = Input(shape=(input_shape))\n",
    "input_b = Input(shape=(input_shape))\n",
    "\n",
    "# because we re-use the same instance `base_network`,\n",
    "# the weights of the network\n",
    "# will be shared across the two branches\n",
    "processed_a = base_network(input_a)\n",
    "processed_b = base_network(input_b)\n",
    "\n",
    "# Compute the Euclidean distance between the two vectors in the latent space\n",
    "distance = Lambda(euclidean_distance, output_shape=eucl_dist_output_shape)([processed_a, processed_b])\n",
    "\n",
    "model = Model(inputs=[input_a, input_b], outputs=distance)"
   ]
  },
  {
   "cell_type": "code",
   "execution_count": 21,
   "id": "6bee37ef",
   "metadata": {
    "execution": {
     "iopub.execute_input": "2022-04-18T07:44:11.890012Z",
     "iopub.status.busy": "2022-04-18T07:44:11.888851Z",
     "iopub.status.idle": "2022-04-18T07:44:11.891952Z",
     "shell.execute_reply": "2022-04-18T07:44:11.892383Z",
     "shell.execute_reply.started": "2022-04-18T03:23:20.901234Z"
    },
    "papermill": {
     "duration": 0.039905,
     "end_time": "2022-04-18T07:44:11.892515",
     "exception": false,
     "start_time": "2022-04-18T07:44:11.852610",
     "status": "completed"
    },
    "tags": []
   },
   "outputs": [
    {
     "data": {
      "text/plain": [
       "(92567, 11197)"
      ]
     },
     "execution_count": 21,
     "metadata": {},
     "output_type": "execute_result"
    }
   ],
   "source": [
    "batch_sz = 128\n",
    "num_train_samples = 46650 + 45917 \n",
    "num_val_samples = 5648 + 5549 \n",
    "num_train_samples, num_val_samples"
   ]
  },
  {
   "cell_type": "code",
   "execution_count": 22,
   "id": "3b37142c",
   "metadata": {
    "execution": {
     "iopub.execute_input": "2022-04-18T07:44:11.962432Z",
     "iopub.status.busy": "2022-04-18T07:44:11.961541Z",
     "iopub.status.idle": "2022-04-18T07:44:11.969065Z",
     "shell.execute_reply": "2022-04-18T07:44:11.969527Z",
     "shell.execute_reply.started": "2022-04-18T03:23:25.242367Z"
    },
    "papermill": {
     "duration": 0.046865,
     "end_time": "2022-04-18T07:44:11.969663",
     "exception": false,
     "start_time": "2022-04-18T07:44:11.922798",
     "status": "completed"
    },
    "tags": []
   },
   "outputs": [],
   "source": [
    "# compile model using RMSProp Optimizer and Contrastive loss function defined above\n",
    "rms = RMSprop(learning_rate=1e-4, rho=0.9, epsilon=1e-08)\n",
    "model.compile(loss=contrastive_loss, optimizer=rms)"
   ]
  },
  {
   "cell_type": "code",
   "execution_count": 23,
   "id": "32476a8b",
   "metadata": {
    "execution": {
     "iopub.execute_input": "2022-04-18T07:44:12.039028Z",
     "iopub.status.busy": "2022-04-18T07:44:12.037460Z",
     "iopub.status.idle": "2022-04-18T07:44:12.039704Z",
     "shell.execute_reply": "2022-04-18T07:44:12.040181Z",
     "shell.execute_reply.started": "2022-04-18T03:23:26.946909Z"
    },
    "papermill": {
     "duration": 0.039021,
     "end_time": "2022-04-18T07:44:12.040335",
     "exception": false,
     "start_time": "2022-04-18T07:44:12.001314",
     "status": "completed"
    },
    "tags": []
   },
   "outputs": [],
   "source": [
    "# Using Keras Callbacks, save the model after every epoch\n",
    "# Reduce the learning rate by a factor of 0.1 if the validation loss does not improve for 5 epochs\n",
    "# Stop the training using early stopping if the validation loss does not improve for 12 epochs\n",
    "callbacks = [\n",
    "    EarlyStopping(patience=12, verbose=1),\n",
    "    ReduceLROnPlateau(factor=0.1, patience=5, min_lr=0.000001, verbose=1),\n",
    "    ModelCheckpoint('./siam-face-recognition-{epoch:03d}.h5', verbose=1, save_weights_only=True)\n",
    "]"
   ]
  },
  {
   "cell_type": "code",
   "execution_count": 24,
   "id": "21132647",
   "metadata": {
    "execution": {
     "iopub.execute_input": "2022-04-18T07:44:12.105000Z",
     "iopub.status.busy": "2022-04-18T07:44:12.104245Z",
     "iopub.status.idle": "2022-04-18T11:01:37.542622Z",
     "shell.execute_reply": "2022-04-18T11:01:37.542099Z",
     "shell.execute_reply.started": "2022-04-18T03:23:28.091414Z"
    },
    "papermill": {
     "duration": 11845.472011,
     "end_time": "2022-04-18T11:01:37.542763",
     "exception": false,
     "start_time": "2022-04-18T07:44:12.070752",
     "status": "completed"
    },
    "tags": []
   },
   "outputs": [
    {
     "name": "stderr",
     "output_type": "stream",
     "text": [
      "/opt/conda/lib/python3.7/site-packages/keras/engine/training.py:1972: UserWarning: `Model.fit_generator` is deprecated and will be removed in a future version. Please use `Model.fit`, which supports generators.\n",
      "  warnings.warn('`Model.fit_generator` is deprecated and '\n",
      "2022-04-18 07:44:14.740541: I tensorflow/compiler/mlir/mlir_graph_optimization_pass.cc:185] None of the MLIR Optimization Passes are enabled (registered 2)\n"
     ]
    },
    {
     "name": "stdout",
     "output_type": "stream",
     "text": [
      "Epoch 1/50\n"
     ]
    },
    {
     "name": "stderr",
     "output_type": "stream",
     "text": [
      "2022-04-18 07:44:16.355292: I tensorflow/stream_executor/cuda/cuda_dnn.cc:369] Loaded cuDNN version 8005\n"
     ]
    },
    {
     "name": "stdout",
     "output_type": "stream",
     "text": [
      "723/723 [==============================] - 275s 372ms/step - loss: 0.2625 - val_loss: 0.4129\n",
      "\n",
      "Epoch 00001: saving model to ./siam-face-recognition-001.h5\n",
      "Epoch 2/50\n",
      "723/723 [==============================] - 228s 316ms/step - loss: 0.2539 - val_loss: 0.4050\n",
      "\n",
      "Epoch 00002: saving model to ./siam-face-recognition-002.h5\n",
      "Epoch 3/50\n",
      "723/723 [==============================] - 230s 318ms/step - loss: 0.2449 - val_loss: 0.3360\n",
      "\n",
      "Epoch 00003: saving model to ./siam-face-recognition-003.h5\n",
      "Epoch 4/50\n",
      "723/723 [==============================] - 226s 313ms/step - loss: 0.2277 - val_loss: 0.2834\n",
      "\n",
      "Epoch 00004: saving model to ./siam-face-recognition-004.h5\n",
      "Epoch 5/50\n",
      "723/723 [==============================] - 224s 310ms/step - loss: 0.2127 - val_loss: 0.2599\n",
      "\n",
      "Epoch 00005: saving model to ./siam-face-recognition-005.h5\n",
      "Epoch 6/50\n",
      "723/723 [==============================] - 223s 308ms/step - loss: 0.2041 - val_loss: 0.2453\n",
      "\n",
      "Epoch 00006: saving model to ./siam-face-recognition-006.h5\n",
      "Epoch 7/50\n",
      "723/723 [==============================] - 232s 321ms/step - loss: 0.1963 - val_loss: 0.2269\n",
      "\n",
      "Epoch 00007: saving model to ./siam-face-recognition-007.h5\n",
      "Epoch 8/50\n",
      "723/723 [==============================] - 237s 328ms/step - loss: 0.1901 - val_loss: 0.2156\n",
      "\n",
      "Epoch 00008: saving model to ./siam-face-recognition-008.h5\n",
      "Epoch 9/50\n",
      "723/723 [==============================] - 226s 313ms/step - loss: 0.1849 - val_loss: 0.2144\n",
      "\n",
      "Epoch 00009: saving model to ./siam-face-recognition-009.h5\n",
      "Epoch 10/50\n",
      "723/723 [==============================] - 227s 314ms/step - loss: 0.1807 - val_loss: 0.2049\n",
      "\n",
      "Epoch 00010: saving model to ./siam-face-recognition-010.h5\n",
      "Epoch 11/50\n",
      "723/723 [==============================] - 227s 315ms/step - loss: 0.1775 - val_loss: 0.2042\n",
      "\n",
      "Epoch 00011: saving model to ./siam-face-recognition-011.h5\n",
      "Epoch 12/50\n",
      "723/723 [==============================] - 226s 313ms/step - loss: 0.1723 - val_loss: 0.2082\n",
      "\n",
      "Epoch 00012: saving model to ./siam-face-recognition-012.h5\n",
      "Epoch 13/50\n",
      "723/723 [==============================] - 230s 319ms/step - loss: 0.1702 - val_loss: 0.1970\n",
      "\n",
      "Epoch 00013: saving model to ./siam-face-recognition-013.h5\n",
      "Epoch 14/50\n",
      "723/723 [==============================] - 232s 322ms/step - loss: 0.1664 - val_loss: 0.1947\n",
      "\n",
      "Epoch 00014: saving model to ./siam-face-recognition-014.h5\n",
      "Epoch 15/50\n",
      "723/723 [==============================] - 229s 317ms/step - loss: 0.1635 - val_loss: 0.1976\n",
      "\n",
      "Epoch 00015: saving model to ./siam-face-recognition-015.h5\n",
      "Epoch 16/50\n",
      "723/723 [==============================] - 235s 325ms/step - loss: 0.1615 - val_loss: 0.1899\n",
      "\n",
      "Epoch 00016: saving model to ./siam-face-recognition-016.h5\n",
      "Epoch 17/50\n",
      "723/723 [==============================] - 230s 318ms/step - loss: 0.1590 - val_loss: 0.1913\n",
      "\n",
      "Epoch 00017: saving model to ./siam-face-recognition-017.h5\n",
      "Epoch 18/50\n",
      "723/723 [==============================] - 237s 328ms/step - loss: 0.1560 - val_loss: 0.1882\n",
      "\n",
      "Epoch 00018: saving model to ./siam-face-recognition-018.h5\n",
      "Epoch 19/50\n",
      "723/723 [==============================] - 228s 315ms/step - loss: 0.1536 - val_loss: 0.1871\n",
      "\n",
      "Epoch 00019: saving model to ./siam-face-recognition-019.h5\n",
      "Epoch 20/50\n",
      "723/723 [==============================] - 233s 323ms/step - loss: 0.1526 - val_loss: 0.1875\n",
      "\n",
      "Epoch 00020: saving model to ./siam-face-recognition-020.h5\n",
      "Epoch 21/50\n",
      "723/723 [==============================] - 229s 317ms/step - loss: 0.1496 - val_loss: 0.1881\n",
      "\n",
      "Epoch 00021: saving model to ./siam-face-recognition-021.h5\n",
      "Epoch 22/50\n",
      "723/723 [==============================] - 236s 327ms/step - loss: 0.1485 - val_loss: 0.1858\n",
      "\n",
      "Epoch 00022: saving model to ./siam-face-recognition-022.h5\n",
      "Epoch 23/50\n",
      "723/723 [==============================] - 236s 326ms/step - loss: 0.1459 - val_loss: 0.1863\n",
      "\n",
      "Epoch 00023: saving model to ./siam-face-recognition-023.h5\n",
      "Epoch 24/50\n",
      "723/723 [==============================] - 237s 329ms/step - loss: 0.1441 - val_loss: 0.1833\n",
      "\n",
      "Epoch 00024: saving model to ./siam-face-recognition-024.h5\n",
      "Epoch 25/50\n",
      "723/723 [==============================] - 244s 338ms/step - loss: 0.1432 - val_loss: 0.1815\n",
      "\n",
      "Epoch 00025: saving model to ./siam-face-recognition-025.h5\n",
      "Epoch 26/50\n",
      "723/723 [==============================] - 239s 332ms/step - loss: 0.1403 - val_loss: 0.1824\n",
      "\n",
      "Epoch 00026: saving model to ./siam-face-recognition-026.h5\n",
      "Epoch 27/50\n",
      "723/723 [==============================] - 239s 331ms/step - loss: 0.1392 - val_loss: 0.1815\n",
      "\n",
      "Epoch 00027: saving model to ./siam-face-recognition-027.h5\n",
      "Epoch 28/50\n",
      "723/723 [==============================] - 243s 336ms/step - loss: 0.1381 - val_loss: 0.1825\n",
      "\n",
      "Epoch 00028: saving model to ./siam-face-recognition-028.h5\n",
      "Epoch 29/50\n",
      "723/723 [==============================] - 240s 332ms/step - loss: 0.1371 - val_loss: 0.1823\n",
      "\n",
      "Epoch 00029: saving model to ./siam-face-recognition-029.h5\n",
      "Epoch 30/50\n",
      "723/723 [==============================] - 242s 335ms/step - loss: 0.1350 - val_loss: 0.1841\n",
      "\n",
      "Epoch 00030: ReduceLROnPlateau reducing learning rate to 9.999999747378752e-06.\n",
      "\n",
      "Epoch 00030: saving model to ./siam-face-recognition-030.h5\n",
      "Epoch 31/50\n",
      "723/723 [==============================] - 239s 332ms/step - loss: 0.1332 - val_loss: 0.1810\n",
      "\n",
      "Epoch 00031: saving model to ./siam-face-recognition-031.h5\n",
      "Epoch 32/50\n",
      "723/723 [==============================] - 246s 341ms/step - loss: 0.1333 - val_loss: 0.1818\n",
      "\n",
      "Epoch 00032: saving model to ./siam-face-recognition-032.h5\n",
      "Epoch 33/50\n",
      "723/723 [==============================] - 250s 347ms/step - loss: 0.1337 - val_loss: 0.1809\n",
      "\n",
      "Epoch 00033: saving model to ./siam-face-recognition-033.h5\n",
      "Epoch 34/50\n",
      "723/723 [==============================] - 243s 337ms/step - loss: 0.1324 - val_loss: 0.1824\n",
      "\n",
      "Epoch 00034: saving model to ./siam-face-recognition-034.h5\n",
      "Epoch 35/50\n",
      "723/723 [==============================] - 240s 332ms/step - loss: 0.1326 - val_loss: 0.1816\n",
      "\n",
      "Epoch 00035: saving model to ./siam-face-recognition-035.h5\n",
      "Epoch 36/50\n",
      "723/723 [==============================] - 258s 357ms/step - loss: 0.1328 - val_loss: 0.1818\n",
      "\n",
      "Epoch 00036: saving model to ./siam-face-recognition-036.h5\n",
      "Epoch 37/50\n",
      "723/723 [==============================] - 230s 318ms/step - loss: 0.1322 - val_loss: 0.1808\n",
      "\n",
      "Epoch 00037: saving model to ./siam-face-recognition-037.h5\n",
      "Epoch 38/50\n",
      "723/723 [==============================] - 236s 327ms/step - loss: 0.1323 - val_loss: 0.1800\n",
      "\n",
      "Epoch 00038: saving model to ./siam-face-recognition-038.h5\n",
      "Epoch 39/50\n",
      "723/723 [==============================] - 232s 321ms/step - loss: 0.1325 - val_loss: 0.1821\n",
      "\n",
      "Epoch 00039: saving model to ./siam-face-recognition-039.h5\n",
      "Epoch 40/50\n",
      "723/723 [==============================] - 233s 323ms/step - loss: 0.1323 - val_loss: 0.1809\n",
      "\n",
      "Epoch 00040: saving model to ./siam-face-recognition-040.h5\n",
      "Epoch 41/50\n",
      "723/723 [==============================] - 228s 315ms/step - loss: 0.1309 - val_loss: 0.1822\n",
      "\n",
      "Epoch 00041: saving model to ./siam-face-recognition-041.h5\n",
      "Epoch 42/50\n",
      "723/723 [==============================] - 230s 318ms/step - loss: 0.1316 - val_loss: 0.1804\n",
      "\n",
      "Epoch 00042: saving model to ./siam-face-recognition-042.h5\n",
      "Epoch 43/50\n",
      "723/723 [==============================] - 230s 319ms/step - loss: 0.1311 - val_loss: 0.1819\n",
      "\n",
      "Epoch 00043: ReduceLROnPlateau reducing learning rate to 1e-06.\n",
      "\n",
      "Epoch 00043: saving model to ./siam-face-recognition-043.h5\n",
      "Epoch 44/50\n",
      "723/723 [==============================] - 235s 325ms/step - loss: 0.1313 - val_loss: 0.1829\n",
      "\n",
      "Epoch 00044: saving model to ./siam-face-recognition-044.h5\n",
      "Epoch 45/50\n",
      "723/723 [==============================] - 278s 386ms/step - loss: 0.1316 - val_loss: 0.1791\n",
      "\n",
      "Epoch 00045: saving model to ./siam-face-recognition-045.h5\n",
      "Epoch 46/50\n",
      "723/723 [==============================] - 249s 344ms/step - loss: 0.1309 - val_loss: 0.1800\n",
      "\n",
      "Epoch 00046: saving model to ./siam-face-recognition-046.h5\n",
      "Epoch 47/50\n",
      "723/723 [==============================] - 246s 341ms/step - loss: 0.1311 - val_loss: 0.1814\n",
      "\n",
      "Epoch 00047: saving model to ./siam-face-recognition-047.h5\n",
      "Epoch 48/50\n",
      "723/723 [==============================] - 239s 331ms/step - loss: 0.1311 - val_loss: 0.1837\n",
      "\n",
      "Epoch 00048: saving model to ./siam-face-recognition-048.h5\n",
      "Epoch 49/50\n",
      "723/723 [==============================] - 228s 316ms/step - loss: 0.1312 - val_loss: 0.1823\n",
      "\n",
      "Epoch 00049: saving model to ./siam-face-recognition-049.h5\n",
      "Epoch 50/50\n",
      "723/723 [==============================] - 242s 335ms/step - loss: 0.1315 - val_loss: 0.1816\n",
      "\n",
      "Epoch 00050: saving model to ./siam-face-recognition-050.h5\n"
     ]
    }
   ],
   "source": [
    "results = model.fit_generator(generate_batch(train_set, batch_sz),\n",
    "                              steps_per_epoch = num_train_samples//batch_sz,\n",
    "                              epochs = 50,\n",
    "                              validation_data = generate_batch(val_set, batch_sz),\n",
    "                              validation_steps = num_val_samples//batch_sz,\n",
    "                              callbacks = callbacks)"
   ]
  },
  {
   "cell_type": "code",
   "execution_count": 25,
   "id": "59d658ee",
   "metadata": {
    "execution": {
     "iopub.execute_input": "2022-04-18T11:02:00.491051Z",
     "iopub.status.busy": "2022-04-18T11:02:00.490131Z",
     "iopub.status.idle": "2022-04-18T11:02:00.668341Z",
     "shell.execute_reply": "2022-04-18T11:02:00.667791Z",
     "shell.execute_reply.started": "2022-04-18T07:28:53.839940Z"
    },
    "papermill": {
     "duration": 11.69671,
     "end_time": "2022-04-18T11:02:00.668498",
     "exception": false,
     "start_time": "2022-04-18T11:01:48.971788",
     "status": "completed"
    },
    "tags": []
   },
   "outputs": [
    {
     "data": {
      "image/png": "[encoded data removed]",
      "text/plain": [
       "<Figure size 432x288 with 1 Axes>"
      ]
     },
     "metadata": {
      "needs_background": "light"
     },
     "output_type": "display_data"
    }
   ],
   "source": [
    "#%% Plot the Change in Loss over Epochs\n",
    "for key in ['loss', 'val_loss']:\n",
    "  plt.plot(results.history[key], label=key)\n",
    "\n",
    "plt.legend()\n",
    "plt.show()"
   ]
  },
  {
   "cell_type": "markdown",
   "id": "0bfd01e9",
   "metadata": {
    "papermill": {
     "duration": 11.628789,
     "end_time": "2022-04-18T11:02:24.806616",
     "exception": false,
     "start_time": "2022-04-18T11:02:13.177827",
     "status": "completed"
    },
    "tags": []
   },
   "source": [
    "### Load weights of the best model"
   ]
  },
  {
   "cell_type": "code",
   "execution_count": 26,
   "id": "88575885",
   "metadata": {
    "execution": {
     "iopub.execute_input": "2022-04-18T11:02:48.316915Z",
     "iopub.status.busy": "2022-04-18T11:02:48.316338Z",
     "iopub.status.idle": "2022-04-18T11:04:30.883411Z",
     "shell.execute_reply": "2022-04-18T11:04:30.883891Z",
     "shell.execute_reply.started": "2022-04-18T07:40:37.848402Z"
    },
    "papermill": {
     "duration": 114.64791,
     "end_time": "2022-04-18T11:04:30.884081",
     "exception": false,
     "start_time": "2022-04-18T11:02:36.236171",
     "status": "completed"
    },
    "tags": []
   },
   "outputs": [],
   "source": [
    "NUM_TRIALS = 50 ## Trials for Testing Accuracy\n",
    "\n",
    "# test with many randomly selected images\n",
    "matching = 0\n",
    "for tiral in range(NUM_TRIALS):\n",
    "    filelist = test_set[np.random.randint(len(test_set))]\n",
    "    index = np.random.randint(len(filelist))\n",
    "    path_to_ref = filelist[index]\n",
    "    cat_ref = path_to_ref.split(\"/\")[-2]\n",
    "    ref_img = cv2.imread(path_to_ref, 0)\n",
    "    ref_img = cv2.resize(ref_img, (img_w, img_h))\n",
    "    ref_img = np.array(ref_img, dtype = np.float64)\n",
    "    ref_img /= 255\n",
    "    ref_img = ref_img[..., np.newaxis]\n",
    "\n",
    "    results = []\n",
    "    for index in range(len(test_set)):\n",
    "        filelist = test_set[index]\n",
    "        idx = np.random.randint(len(filelist))\n",
    "        path_to_cur = filelist[idx]\n",
    "        cat_cur = path_to_cur.split(\"/\")[-2]\n",
    "        cur_img = cv2.imread(path_to_cur, 0)\n",
    "        cur_img = cv2.resize(cur_img, (img_w, img_h))\n",
    "        cur_img = np.array(cur_img, dtype = np.float64)\n",
    "        cur_img /= 255\n",
    "        cur_img = cur_img[..., np.newaxis]\n",
    "        pairs=[np.zeros((1, img_h, img_w, 1)) for i in range(2)]\n",
    "        pairs[0][0, :, :, :] = ref_img\n",
    "        pairs[1][0, :, :, :] = cur_img\n",
    "        dist = model.predict([pairs[0], pairs[1]])[0][0]\n",
    "        results.append((cat_cur, dist))\n",
    "    results.sort(key = lambda x : x[1])       \n",
    "\n",
    "    if cat_ref ==  results[0][0]:\n",
    "        matching += 1 "
   ]
  },
  {
   "cell_type": "code",
   "execution_count": 27,
   "id": "efc2f5b9",
   "metadata": {
    "execution": {
     "iopub.execute_input": "2022-04-18T11:04:54.715619Z",
     "iopub.status.busy": "2022-04-18T11:04:54.713814Z",
     "iopub.status.idle": "2022-04-18T11:04:54.718058Z",
     "shell.execute_reply": "2022-04-18T11:04:54.717551Z",
     "shell.execute_reply.started": "2022-04-18T07:42:50.928017Z"
    },
    "papermill": {
     "duration": 12.294015,
     "end_time": "2022-04-18T11:04:54.718192",
     "exception": false,
     "start_time": "2022-04-18T11:04:42.424177",
     "status": "completed"
    },
    "tags": []
   },
   "outputs": [
    {
     "name": "stdout",
     "output_type": "stream",
     "text": [
      "Accuracy: 44.00 %\n",
      "\n"
     ]
    }
   ],
   "source": [
    "print(\"Accuracy: %5.2f %%\\n\" % (100.0 * matching / NUM_TRIALS))"
   ]
  },
  {
   "cell_type": "markdown",
   "id": "8439f8a9",
   "metadata": {
    "papermill": {
     "duration": 11.661459,
     "end_time": "2022-04-18T11:05:17.822748",
     "exception": false,
     "start_time": "2022-04-18T11:05:06.161289",
     "status": "completed"
    },
    "tags": []
   },
   "source": [
    "### Save the model for inference"
   ]
  },
  {
   "cell_type": "code",
   "execution_count": 28,
   "id": "44b3e232",
   "metadata": {
    "execution": {
     "iopub.execute_input": "2022-04-18T11:05:41.401364Z",
     "iopub.status.busy": "2022-04-18T11:05:41.400487Z",
     "iopub.status.idle": "2022-04-18T11:05:41.435597Z",
     "shell.execute_reply": "2022-04-18T11:05:41.436789Z",
     "shell.execute_reply.started": "2022-04-18T07:43:07.453985Z"
    },
    "papermill": {
     "duration": 11.75555,
     "end_time": "2022-04-18T11:05:41.437006",
     "exception": false,
     "start_time": "2022-04-18T11:05:29.681456",
     "status": "completed"
    },
    "tags": []
   },
   "outputs": [],
   "source": [
    "model.save('siam-face-recognition.h5')"
   ]
  },
  {
   "cell_type": "code",
   "execution_count": null,
   "id": "ec94cc3e",
   "metadata": {
    "papermill": {
     "duration": 12.053085,
     "end_time": "2022-04-18T11:06:05.096684",
     "exception": false,
     "start_time": "2022-04-18T11:05:53.043599",
     "status": "completed"
    },
    "tags": []
   },
   "outputs": [],
   "source": []
  }
 ],
 "metadata": {
  "kernelspec": {
   "display_name": "Python 3",
   "language": "python",
   "name": "python3"
  },
  "language_info": {
   "codemirror_mode": {
    "name": "ipython",
    "version": 3
   },
   "file_extension": ".py",
   "mimetype": "text/x-python",
   "name": "python",
   "nbconvert_exporter": "python",
   "pygments_lexer": "ipython3",
   "version": "3.7.12"
  },
  "papermill": {
   "default_parameters": {},
   "duration": 12158.792359,
   "end_time": "2022-04-18T11:06:19.302695",
   "environment_variables": {},
   "exception": null,
   "input_path": "__notebook__.ipynb",
   "output_path": "__notebook__.ipynb",
   "parameters": {},
   "start_time": "2022-04-18T07:43:40.510336",
   "version": "2.3.3"
  }
 },
 "nbformat": 4,
 "nbformat_minor": 5
}
